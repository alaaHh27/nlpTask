{
  "nbformat": 4,
  "nbformat_minor": 0,
  "metadata": {
    "colab": {
      "provenance": [],
      "authorship_tag": "ABX9TyOJ4IElPdo7nPmwhiiCZ7KQ",
      "include_colab_link": true
    },
    "kernelspec": {
      "name": "python3",
      "display_name": "Python 3"
    },
    "language_info": {
      "name": "python"
    }
  },
  "cells": [
    {
      "cell_type": "markdown",
      "metadata": {
        "id": "view-in-github",
        "colab_type": "text"
      },
      "source": [
        "<a href=\"https://colab.research.google.com/github/alaaHh27/nlpTask/blob/main/Copy_of_nlpTask.ipynb\" target=\"_parent\"><img src=\"https://colab.research.google.com/assets/colab-badge.svg\" alt=\"Open In Colab\"/></a>"
      ]
    },
    {
      "cell_type": "code",
      "execution_count": null,
      "metadata": {
        "id": "Nj_JfKHTjQ4M"
      },
      "outputs": [],
      "source": [
        "# Import necessary libraries\n",
        "import numpy as np\n",
        "import tensorflow as tf\n",
        "from tensorflow import keras\n",
        "from tensorflow.keras.preprocessing.sequence import pad_sequences\n",
        "from tensorflow.keras.datasets import imdb\n",
        "\n",
        "# Set hyperparameters\n",
        "vocab_size = 10000   # Keep the top 10,000 most frequent words\n",
        "max_length = 200     # Maximum review length\n",
        "embedding_dim = 32\n",
        "batch_size = 128\n",
        "epochs = 5\n",
        "\n",
        "# Load IMDb dataset\n",
        "(train_data, train_labels), (test_data, test_labels) = imdb.load_data(num_words=vocab_size)\n",
        "\n",
        "# Pad sequences to make them uniform\n",
        "train_data = pad_sequences(train_data, maxlen=max_length, padding='post')\n",
        "test_data = pad_sequences(test_data, maxlen=max_length, padding='post')\n",
        "\n",
        "# Build the model\n",
        "model = keras.Sequential([\n",
        "    keras.layers.Embedding(vocab_size, embedding_dim, input_length=max_length),\n",
        "    keras.layers.Conv1D(64, 5, activation='relu'),\n",
        "    keras.layers.MaxPooling1D(pool_size=2),\n",
        "    keras.layers.LSTM(64, return_sequences=True),\n",
        "    keras.layers.LSTM(32),\n",
        "    keras.layers.Dense(10, activation='relu'),\n",
        "    keras.layers.Dense(1, activation='sigmoid')\n",
        "])\n",
        "\n",
        "# Compile the model\n",
        "model.compile(loss='binary_crossentropy', optimizer='adam', metrics=['accuracy'])\n",
        "\n",
        "# Train the model\n",
        "print(\"Training the model...\")\n",
        "model.fit(train_data, train_labels, epochs=epochs, batch_size=batch_size, validation_data=(test_data, test_labels))\n",
        "\n",
        "# Save the model\n",
        "model.save(\"sentiment_model.h5\")\n",
        "print(\"Model saved as sentiment_model.h5\")\n",
        "\n",
        "# Load IMDb word index\n",
        "word_index = imdb.get_word_index()\n",
        "reverse_word_index = {value: key for key, value in word_index.items()}\n",
        "\n",
        "# Function to convert text to sequence\n",
        "def text_to_sequence(text):\n",
        "    words = text.lower().split()\n",
        "    sequence = [word_index.get(word, 2) for word in words]  # 2 is the index for unknown words\n",
        "    return pad_sequences([sequence], maxlen=max_length, padding='post')\n",
        "\n",
        "# Function to predict sentiment\n",
        "def predict_sentiment(review):\n",
        "    sequence = text_to_sequence(review)\n",
        "    prediction = model.predict(sequence)[0][0]\n",
        "    sentiment = \"Positive\" if prediction > 0.5 else \"Negative\"\n",
        "    return f\"Predicted Sentiment: {sentiment} (Confidence: {prediction:.4f})\"\n",
        "\n",
        "# Test the model with a user review\n",
        "user_review = input(\"Enter a movie review: \")\n",
        "print(predict_sentiment(user_review))"
      ]
    }
  ]
}